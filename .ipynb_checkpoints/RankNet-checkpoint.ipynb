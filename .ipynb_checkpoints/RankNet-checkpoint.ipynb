{
 "cells": [
  {
   "cell_type": "markdown",
   "metadata": {},
   "source": [
    "# RankNet\n",
    "\n",
    "This is the generic implementation of RankNet on a synthetic dataset.\n",
    "\n",
    "This model is applied to hotel imags in the other notebook.\n",
    "\n",
    "![alt text](assets/siamese-net.png \"Title\")"
   ]
  },
  {
   "cell_type": "code",
   "execution_count": 1,
   "metadata": {},
   "outputs": [
    {
     "name": "stderr",
     "output_type": "stream",
     "text": [
      "Using TensorFlow backend.\n"
     ]
    },
    {
     "name": "stdout",
     "output_type": "stream",
     "text": [
      "Populating the interactive namespace from numpy and matplotlib\n"
     ]
    }
   ],
   "source": [
    "import numpy as np\n",
    "\n",
    "import keras\n",
    "from keras import backend\n",
    "from keras.layers import Activation, Add, Dense, Input, Lambda, Dropout, Subtract\n",
    "from keras.models import Model, Sequential\n",
    "from keras.utils import plot_model\n",
    "%pylab inline\n",
    "\n",
    "INPUT_DIM = 1536"
   ]
  },
  {
   "cell_type": "markdown",
   "metadata": {},
   "source": [
    "## Base Network\n",
    "\n",
    "This is a scoring function (regression) that takes an images vector as input and outputs a scalar number. The Siamese model create two of these base networks to for higher and lower ranking images respectively."
   ]
  },
  {
   "cell_type": "code",
   "execution_count": 2,
   "metadata": {},
   "outputs": [],
   "source": [
    "def create_base_network(input_dim):\n",
    "    '''Base network to be shared (eq. to feature extraction).\n",
    "    '''\n",
    "    seq = Sequential()\n",
    "    seq.add(Dense(INPUT_DIM, input_shape=(input_dim,), activation='relu'))\n",
    "    seq.add(Dropout(0.1))\n",
    "    seq.add(Dense(64, activation='relu'))\n",
    "    seq.add(Dropout(0.1))\n",
    "    seq.add(Dense(32, activation='relu'))\n",
    "    seq.add(Dense(1))\n",
    "    return seq"
   ]
  },
  {
   "cell_type": "markdown",
   "metadata": {},
   "source": [
    "## Siamse Archecture\n",
    "\n",
    "We create two instances of the base archecture and take the difference between their scalar outputs. We then pass the difference between a sigmoid function so that we can use binary-cross-entropy for the differntiable loss function."
   ]
  },
  {
   "cell_type": "code",
   "execution_count": 3,
   "metadata": {
    "scrolled": false
   },
   "outputs": [],
   "source": [
    "def create_meta_network(input_dim, base_network):\n",
    "    input_a = Input(shape=(input_dim,))\n",
    "    input_b = Input(shape=(input_dim,))\n",
    "\n",
    "    rel_score = base_network(input_a)\n",
    "    irr_score = base_network(input_b)\n",
    "\n",
    "    # subtract scores\n",
    "    diff = Subtract()([rel_score, irr_score])\n",
    "\n",
    "    # Pass difference through sigmoid function.\n",
    "    prob = Activation(\"sigmoid\")(diff)\n",
    "\n",
    "    # Build model.\n",
    "    model = Model(inputs = [input_a, input_b], outputs = prob)\n",
    "    model.compile(optimizer = \"adam\", loss = \"binary_crossentropy\")\n",
    "\n",
    "    return model"
   ]
  },
  {
   "cell_type": "code",
   "execution_count": 7,
   "metadata": {},
   "outputs": [
    {
     "name": "stdout",
     "output_type": "stream",
     "text": [
      "__________________________________________________________________________________________________\n",
      "Layer (type)                    Output Shape         Param #     Connected to                     \n",
      "==================================================================================================\n",
      "input_7 (InputLayer)            (None, 1536)         0                                            \n",
      "__________________________________________________________________________________________________\n",
      "input_8 (InputLayer)            (None, 1536)         0                                            \n",
      "__________________________________________________________________________________________________\n",
      "sequential_4 (Sequential)       (None, 1)            2461313     input_7[0][0]                    \n",
      "                                                                 input_8[0][0]                    \n",
      "__________________________________________________________________________________________________\n",
      "subtract_4 (Subtract)           (None, 1)            0           sequential_4[1][0]               \n",
      "                                                                 sequential_4[2][0]               \n",
      "__________________________________________________________________________________________________\n",
      "activation_4 (Activation)       (None, 1)            0           subtract_4[0][0]                 \n",
      "==================================================================================================\n",
      "Total params: 2,461,313\n",
      "Trainable params: 2,461,313\n",
      "Non-trainable params: 0\n",
      "__________________________________________________________________________________________________\n"
     ]
    }
   ],
   "source": [
    "base_network = create_base_network(INPUT_DIM)\n",
    "model = create_meta_network(INPUT_DIM, base_network)\n",
    "model.summary()\n",
    "\n",
    "plot_model(base_network, to_file='base.png')\n",
    "plot_model(model, to_file='meta.png')"
   ]
  },
  {
   "cell_type": "markdown",
   "metadata": {},
   "source": [
    "### Base Network\n",
    "\n",
    "This can be any (scoring) function which outputs a scalar:\n",
    "![base](base.png)\n",
    "\n",
    "### Meta Network\n",
    "\n",
    "This takes an instance of the base network and evalutes the pair on it:\n",
    "![meta](meta.png)"
   ]
  },
  {
   "cell_type": "markdown",
   "metadata": {},
   "source": [
    "## Synthetic Dataset\n",
    "\n",
    "We generate two N dimensional datasets from an uniform distribution where one distribution is shift by a constant. This can be thought of as a good image and a less good image that we want to learn to differentiate."
   ]
  },
  {
   "cell_type": "code",
   "execution_count": 28,
   "metadata": {},
   "outputs": [
    {
     "data": {
      "text/plain": [
       "(0.0023731553517547066, -0.00052067296140614276)"
      ]
     },
     "execution_count": 28,
     "metadata": {},
     "output_type": "execute_result"
    }
   ],
   "source": [
    "# Fake data.\n",
    "N = 1000\n",
    "SPLIT=750\n",
    "X_1 = 2* np.random.randn(N, INPUT_DIM) # notice this data is shifted by 2\n",
    "X_2 = np.random.randn(N, INPUT_DIM)\n",
    "\n",
    "X_1_train = X_1[0:SPLIT,:]\n",
    "X_1_test = X_1[SPLIT:N,:]\n",
    "\n",
    "X_2_train = X_2[0:SPLIT,:]\n",
    "X_2_test =  X_2[SPLIT:N,:]\n",
    "\n",
    "\n",
    "y = np.ones((X_1.shape[0], 1))\n",
    "\n",
    "y_train = y[0:SPLIT,:]\n",
    "y_test = y[SPLIT:N,:]\n",
    "\n",
    "np.mean(X_1_train), np.mean(X_2_train)"
   ]
  },
  {
   "cell_type": "code",
   "execution_count": 29,
   "metadata": {
    "scrolled": false
   },
   "outputs": [
    {
     "name": "stdout",
     "output_type": "stream",
     "text": [
      "Train on 750 samples, validate on 250 samples\n",
      "Epoch 1/10\n",
      "750/750 [==============================] - 7s 9ms/step - loss: 0.0460 - val_loss: 1.1323e-04\n",
      "Epoch 2/10\n",
      "750/750 [==============================] - 5s 7ms/step - loss: 0.0045 - val_loss: 3.0593e-04\n",
      "Epoch 3/10\n",
      "750/750 [==============================] - 6s 8ms/step - loss: 8.4689e-04 - val_loss: 8.8093e-04\n",
      "Epoch 00003: early stopping\n"
     ]
    }
   ],
   "source": [
    "# Train model.\n",
    "\n",
    "es=keras.callbacks.EarlyStopping(monitor='val_loss',\n",
    "                              min_delta=0,\n",
    "                              patience=2,\n",
    "                              verbose=1, mode='auto')\n",
    "\n",
    "NUM_EPOCHS = 10\n",
    "BATCH_SIZE = 10\n",
    "history = model.fit([X_1_train, X_2_train], y_train, \n",
    "                    validation_data=([X_1_test, X_2_test], y_test), \n",
    "                    batch_size = BATCH_SIZE, epochs = NUM_EPOCHS, verbose = 1, callbacks=[es])"
   ]
  },
  {
   "cell_type": "code",
   "execution_count": 33,
   "metadata": {},
   "outputs": [
    {
     "data": {
      "image/png": "[encoded data removed]",
      "text/plain": [
       "<matplotlib.figure.Figure at 0x1251d2a90>"
      ]
     },
     "metadata": {},
     "output_type": "display_data"
    }
   ],
   "source": [
    "# summarize history for loss\n",
    "plt.plot(history.history['loss'])\n",
    "plt.plot(history.history['val_loss'])\n",
    "plt.title('model loss')\n",
    "plt.ylabel('loss')\n",
    "plt.xlabel('epoch')\n",
    "plt.legend(['train', 'test'], loc='upper right')\n",
    "plt.show()"
   ]
  },
  {
   "cell_type": "code",
   "execution_count": 31,
   "metadata": {
    "scrolled": false
   },
   "outputs": [
    {
     "data": {
      "text/plain": [
       "(46.19725, 22.895014)"
      ]
     },
     "execution_count": 31,
     "metadata": {},
     "output_type": "execute_result"
    }
   ],
   "source": [
    "#the mean score of the high-rank distribution should be higher\n",
    "np.mean(base_network.predict(X_1_test)), np.mean(base_network.predict(X_2_test))"
   ]
  },
  {
   "cell_type": "code",
   "execution_count": 32,
   "metadata": {},
   "outputs": [
    {
     "data": {
      "text/plain": [
       "1.0"
      ]
     },
     "execution_count": 32,
     "metadata": {},
     "output_type": "execute_result"
    }
   ],
   "source": [
    "#AUC\n",
    "(np.sum(base_network.predict(X_1_test) > base_network.predict(X_2_test))+0.0) / X_1_test.shape[0]"
   ]
  },
  {
   "cell_type": "code",
   "execution_count": null,
   "metadata": {},
   "outputs": [],
   "source": []
  }
 ],
 "metadata": {
  "kernelspec": {
   "display_name": "Python 2",
   "language": "python",
   "name": "python2"
  },
  "language_info": {
   "codemirror_mode": {
    "name": "ipython",
    "version": 2
   },
   "file_extension": ".py",
   "mimetype": "text/x-python",
   "name": "python",
   "nbconvert_exporter": "python",
   "pygments_lexer": "ipython2",
   "version": "2.7.13"
  }
 },
 "nbformat": 4,
 "nbformat_minor": 2
}
